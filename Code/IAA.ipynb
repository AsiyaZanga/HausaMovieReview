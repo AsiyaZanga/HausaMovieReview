{
  "nbformat": 4,
  "nbformat_minor": 0,
  "metadata": {
    "colab": {
      "provenance": []
    },
    "kernelspec": {
      "name": "python3",
      "display_name": "Python 3"
    },
    "language_info": {
      "name": "python"
    }
  },
  "cells": [
    {
      "cell_type": "code",
      "execution_count": null,
      "metadata": {
        "colab": {
          "base_uri": "https://localhost:8080/"
        },
        "id": "iIl6z3HH9NmK",
        "outputId": "f6eb86cd-409e-4dbc-c860-fdf4906d6f78"
      },
      "outputs": [
        {
          "output_type": "stream",
          "name": "stdout",
          "text": [
            "Cohen's Kappa Annotator 1 vs Annotator 2: 0.780715848753478\n",
            "Cohen's Kappa Annotator 1 vs Annotator 3: 0.9118632832610442\n",
            "Cohen's Kappa Annotator 2 vs Annotator 3: 0.8653017003790024\n"
          ]
        }
      ],
      "source": [
        "import pandas as pd\n",
        "from sklearn.metrics import cohen_kappa_score\n",
        "\n",
        "# Load dataset (update with your file path or Colab upload)\n",
        "df = pd.read_csv(\"/content/drive/MyDrive/dataset/kappa score.csv\")   # or pd.read_excel(\"yourfile.xlsx\")\n",
        "\n",
        "# Define consistent label mapping\n",
        "label_map = {\"Negative\": 0, \"Neutral\": 1, \"Positive\": 2}\n",
        "\n",
        "# Apply mapping to each annotator column\n",
        "df[\"Annotator 1\"] = df[\"Annotator 1\"].map(label_map)\n",
        "df[\"Annotator 2\"] = df[\"Annotator 2\"].map(label_map)\n",
        "df[\"Annotator 3\"] = df[\"Annotator 3\"].map(label_map)\n",
        "\n",
        "# Drop any rows with invalid/missing labels\n",
        "df = df.dropna()\n",
        "\n",
        "# Compute Cohen’s Kappa for pairs\n",
        "kappa_1_2 = cohen_kappa_score(df[\"Annotator 1\"], df[\"Annotator 2\"])\n",
        "kappa_1_3 = cohen_kappa_score(df[\"Annotator 1\"], df[\"Annotator 3\"])\n",
        "kappa_2_3 = cohen_kappa_score(df[\"Annotator 2\"], df[\"Annotator 3\"])\n",
        "\n",
        "print(\"Cohen's Kappa Annotator 1 vs Annotator 2:\", kappa_1_2)\n",
        "print(\"Cohen's Kappa Annotator 1 vs Annotator 3:\", kappa_1_3)\n",
        "print(\"Cohen's Kappa Annotator 2 vs Annotator 3:\", kappa_2_3)"
      ]
    },
    {
      "cell_type": "code",
      "source": [
        "from statsmodels.stats.inter_rater import fleiss_kappa\n",
        "\n",
        "# === Fleiss' Kappa (multi-rater agreement) ===\n",
        "# Convert annotation data into category counts per item\n",
        "# Each row: a comment, each column: count of votes per category\n",
        "num_categories = 3\n",
        "fleiss_matrix = []\n",
        "\n",
        "# Select only the annotator columns\n",
        "annotator_cols = [\"Annotator 1\", \"Annotator 2\", \"Annotator 3\"]\n",
        "\n",
        "for i in range(len(df)):\n",
        "    counts = [0] * num_categories\n",
        "    # Iterate over the annotator columns and convert to integer\n",
        "    for col in annotator_cols:\n",
        "        label = int(df.iloc[i][col])\n",
        "        counts[label] += 1\n",
        "    fleiss_matrix.append(counts)\n",
        "\n",
        "fleiss_df = pd.DataFrame(fleiss_matrix, columns=[\"Negative\", \"Neutral\", \"Positive\"])\n",
        "print(\"\\nFleiss Input Matrix:\\n\", fleiss_df)\n",
        "\n",
        "fleiss_score = fleiss_kappa(fleiss_df.values)\n",
        "print(f\"\\nFleiss' Kappa (3 annotators): {fleiss_score:.3f}\")"
      ],
      "metadata": {
        "colab": {
          "base_uri": "https://localhost:8080/"
        },
        "id": "Fgl8R7Vz-DLO",
        "outputId": "402d0a30-4838-4610-e294-147686e74a8b"
      },
      "execution_count": null,
      "outputs": [
        {
          "output_type": "stream",
          "name": "stdout",
          "text": [
            "\n",
            "Fleiss Input Matrix:\n",
            "       Negative  Neutral  Positive\n",
            "0            0        3         0\n",
            "1            0        3         0\n",
            "2            0        3         0\n",
            "3            0        0         3\n",
            "4            0        3         0\n",
            "...        ...      ...       ...\n",
            "3686         0        0         3\n",
            "3687         0        0         3\n",
            "3688         0        0         3\n",
            "3689         0        0         3\n",
            "3690         0        0         3\n",
            "\n",
            "[3691 rows x 3 columns]\n",
            "\n",
            "Fleiss' Kappa (3 annotators): 0.853\n"
          ]
        }
      ]
    }
  ]
}